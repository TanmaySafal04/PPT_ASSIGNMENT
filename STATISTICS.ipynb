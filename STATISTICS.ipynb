{
 "cells": [
  {
   "cell_type": "markdown",
   "id": "1dde4345",
   "metadata": {},
   "source": [
    " # Q-1.\n",
    "A university wants to understand the relationship between the SAT scores of its\n",
    "applicants and their college GPA.\n",
    "They collect data on 500 students, including their SAT\n",
    "scores (out of 1600) and their college GPA (on a 4.0 scale).\n",
    "They find that the correlation\n",
    "coefficient between SAT scores and college GPA is 0.7. \n",
    "What does this correlation\n",
    "coefficient indicate about the relationship between SAT scores and college GPA?\n"
   ]
  },
  {
   "cell_type": "markdown",
   "id": "944ce437",
   "metadata": {},
   "source": [
    " # A-1\n",
    "The correlation of 0.7 between SAT scores and college GPA indicates high positive correlation between them. \n",
    "It means that the student having higher college GPA is highly likely to have high SAT score."
   ]
  },
  {
   "cell_type": "markdown",
   "id": "ba1c2dae",
   "metadata": {},
   "source": [
    "# Q-2.\n",
    "\n",
    "Consider a dataset containing the heights (in centimeters) of 1000 individuals. The\n",
    "mean height is 170 cm with a standard deviation of 10 cm. The dataset is approximately\n",
    "normally distributed, and its skewness is approximately zero. Based on this information,\n",
    "answer the following questions:\n",
    "\n",
    "a. What percentage of individuals in the dataset have heights between 160 cm\n",
    "and 180 cm?\n",
    "\n",
    "b. If we randomly select 100 individuals from the dataset, what is the probability\n",
    "that their average height is greater than 175 cm?\n",
    "\n",
    "c. Assuming the dataset follows a normal distribution, what is the z-score\n",
    "corresponding to a height of 185 cm?\n",
    "\n",
    "d. We know that 5% of the dataset has heights below a certain value. What is\n",
    "the approximate height corresponding to this threshold?\n",
    "\n",
    "e. Calculate the coefficient of variation (CV) for the dataset.\n",
    "\n",
    "f. Calculate the skewness of the dataset and interpret the result.\n"
   ]
  },
  {
   "cell_type": "markdown",
   "id": "40eb0e54",
   "metadata": {},
   "source": [
    "# A-2\n",
    "\n",
    "a. Considering the formula to find the Z-score for a normally disributed data, for height 160 and 180 the z-score is -1 and 1 respectively. Hence by the rule 68-95-99.7% rule, within the 1 standard deviation to the left and right of the mean the distribution has 68% of the individuals.\n",
    "\n",
    "b.\n",
    "\n",
    "c. Z-score corresponding to 185cm is (185-170)/10 = 1.5\n",
    "\n",
    "d. From the Z-table for 5% data, the Z-score is -1.654 so as as per the formula of Z-score, -1.645=(X-170)/10, sp we get\n",
    "   X= 153.55. Hence height corresponding to 5% data is 153.55 cm\n",
    "   \n",
    "e. CV = (standard deviation / mean) * 100 = (10/170)*100 = 5.88\n",
    "\n",
    "f. As the skewness is approximately Zero, this means that data is symmertically distributed and it doesn't favours high or low height."
   ]
  },
  {
   "cell_type": "markdown",
   "id": "c85aa050",
   "metadata": {},
   "source": [
    "# Q3\n",
    "\n",
    "Q-3. Consider the ‘Blood Pressure Before’ and ‘Blood Pressure After’ columns from the\n",
    "data and calculate the following\n",
    "\n",
    "https://drive.google.com/file/d/1mCjtYHiX--mMUjicuaP2gH3k-SnFxt8Y/view?usp=share_\n",
    "\n",
    "a. Measure the dispersion in both and interpret the results.\n",
    "\n",
    "b. Calculate mean and 5% confidence interval and plot it in a graph\n",
    "\n",
    "c. Calculate the Mean absolute deviation and Standard deviation and interpret\n",
    "the results.\n",
    "\n",
    "d. Calculate the correlation coefficient and check the significance of it at 1% level\n",
    "of significance."
   ]
  },
  {
   "cell_type": "code",
   "execution_count": 5,
   "id": "831c00f8",
   "metadata": {},
   "outputs": [],
   "source": [
    "import pandas as pd\n",
    "df=pd.read_csv('data.csv')"
   ]
  },
  {
   "cell_type": "code",
   "execution_count": 6,
   "id": "879b1cd4",
   "metadata": {},
   "outputs": [
    {
     "data": {
      "text/html": [
       "<div>\n",
       "<style scoped>\n",
       "    .dataframe tbody tr th:only-of-type {\n",
       "        vertical-align: middle;\n",
       "    }\n",
       "\n",
       "    .dataframe tbody tr th {\n",
       "        vertical-align: top;\n",
       "    }\n",
       "\n",
       "    .dataframe thead th {\n",
       "        text-align: right;\n",
       "    }\n",
       "</style>\n",
       "<table border=\"1\" class=\"dataframe\">\n",
       "  <thead>\n",
       "    <tr style=\"text-align: right;\">\n",
       "      <th></th>\n",
       "      <th>Patient ID</th>\n",
       "      <th>Blood Pressure Before (mmHg)</th>\n",
       "      <th>Blood Pressure After (mmHg)</th>\n",
       "    </tr>\n",
       "  </thead>\n",
       "  <tbody>\n",
       "    <tr>\n",
       "      <th>0</th>\n",
       "      <td>1</td>\n",
       "      <td>130</td>\n",
       "      <td>120</td>\n",
       "    </tr>\n",
       "    <tr>\n",
       "      <th>1</th>\n",
       "      <td>2</td>\n",
       "      <td>142</td>\n",
       "      <td>135</td>\n",
       "    </tr>\n",
       "  </tbody>\n",
       "</table>\n",
       "</div>"
      ],
      "text/plain": [
       "   Patient ID   Blood Pressure Before (mmHg)   Blood Pressure After (mmHg)\n",
       "0           1                            130                           120\n",
       "1           2                            142                           135"
      ]
     },
     "execution_count": 6,
     "metadata": {},
     "output_type": "execute_result"
    }
   ],
   "source": [
    "df.head(2)"
   ]
  },
  {
   "cell_type": "code",
   "execution_count": 7,
   "id": "b54a0121",
   "metadata": {},
   "outputs": [
    {
     "data": {
      "text/html": [
       "<div>\n",
       "<style scoped>\n",
       "    .dataframe tbody tr th:only-of-type {\n",
       "        vertical-align: middle;\n",
       "    }\n",
       "\n",
       "    .dataframe tbody tr th {\n",
       "        vertical-align: top;\n",
       "    }\n",
       "\n",
       "    .dataframe thead th {\n",
       "        text-align: right;\n",
       "    }\n",
       "</style>\n",
       "<table border=\"1\" class=\"dataframe\">\n",
       "  <thead>\n",
       "    <tr style=\"text-align: right;\">\n",
       "      <th></th>\n",
       "      <th>Patient ID</th>\n",
       "      <th>Blood Pressure Before (mmHg)</th>\n",
       "      <th>Blood Pressure After (mmHg)</th>\n",
       "    </tr>\n",
       "  </thead>\n",
       "  <tbody>\n",
       "    <tr>\n",
       "      <th>count</th>\n",
       "      <td>100.000000</td>\n",
       "      <td>100.000000</td>\n",
       "      <td>100.000000</td>\n",
       "    </tr>\n",
       "    <tr>\n",
       "      <th>mean</th>\n",
       "      <td>50.500000</td>\n",
       "      <td>133.910000</td>\n",
       "      <td>128.360000</td>\n",
       "    </tr>\n",
       "    <tr>\n",
       "      <th>std</th>\n",
       "      <td>29.011492</td>\n",
       "      <td>6.598278</td>\n",
       "      <td>6.888022</td>\n",
       "    </tr>\n",
       "    <tr>\n",
       "      <th>min</th>\n",
       "      <td>1.000000</td>\n",
       "      <td>120.000000</td>\n",
       "      <td>118.000000</td>\n",
       "    </tr>\n",
       "    <tr>\n",
       "      <th>25%</th>\n",
       "      <td>25.750000</td>\n",
       "      <td>128.000000</td>\n",
       "      <td>123.000000</td>\n",
       "    </tr>\n",
       "    <tr>\n",
       "      <th>50%</th>\n",
       "      <td>50.500000</td>\n",
       "      <td>135.000000</td>\n",
       "      <td>128.000000</td>\n",
       "    </tr>\n",
       "    <tr>\n",
       "      <th>75%</th>\n",
       "      <td>75.250000</td>\n",
       "      <td>139.250000</td>\n",
       "      <td>135.000000</td>\n",
       "    </tr>\n",
       "    <tr>\n",
       "      <th>max</th>\n",
       "      <td>100.000000</td>\n",
       "      <td>148.000000</td>\n",
       "      <td>141.000000</td>\n",
       "    </tr>\n",
       "  </tbody>\n",
       "</table>\n",
       "</div>"
      ],
      "text/plain": [
       "       Patient ID   Blood Pressure Before (mmHg)   Blood Pressure After (mmHg)\n",
       "count  100.000000                     100.000000                    100.000000\n",
       "mean    50.500000                     133.910000                    128.360000\n",
       "std     29.011492                       6.598278                      6.888022\n",
       "min      1.000000                     120.000000                    118.000000\n",
       "25%     25.750000                     128.000000                    123.000000\n",
       "50%     50.500000                     135.000000                    128.000000\n",
       "75%     75.250000                     139.250000                    135.000000\n",
       "max    100.000000                     148.000000                    141.000000"
      ]
     },
     "execution_count": 7,
     "metadata": {},
     "output_type": "execute_result"
    }
   ],
   "source": [
    "df.describe()"
   ]
  },
  {
   "cell_type": "code",
   "execution_count": 10,
   "id": "c137b2f9",
   "metadata": {},
   "outputs": [
    {
     "data": {
      "text/plain": [
       "Index(['Patient ID', ' Blood Pressure Before (mmHg)',\n",
       "       ' Blood Pressure After (mmHg)'],\n",
       "      dtype='object')"
      ]
     },
     "execution_count": 10,
     "metadata": {},
     "output_type": "execute_result"
    }
   ],
   "source": [
    "df.columns"
   ]
  },
  {
   "cell_type": "code",
   "execution_count": 14,
   "id": "dd120390",
   "metadata": {},
   "outputs": [
    {
     "name": "stdout",
     "output_type": "stream",
     "text": [
      "Dispersion of Blood Pressure Before (mmHg)\n",
      "43.53727272727273\n",
      "\n",
      "Dispersion of Blood Pressure After (mmHg)\n",
      "47.444848484848485\n",
      "\n",
      "The variance in Blood pressure After is more hence the difference between the mean and the values is large. \n"
     ]
    }
   ],
   "source": [
    "# a. Measure the dispersion in both and interpret the results.\n",
    "import statistics as st\n",
    "print(\"Dispersion of Blood Pressure Before (mmHg)\")\n",
    "print(st.variance(df[' Blood Pressure Before (mmHg)']))\n",
    "print()\n",
    "print(\"Dispersion of Blood Pressure After (mmHg)\")\n",
    "print(st.variance(df[' Blood Pressure After (mmHg)']))\n",
    "print(\"\\nThe variance in Blood pressure After is more hence the difference between the mean and the values is large. \")"
   ]
  },
  {
   "cell_type": "code",
   "execution_count": 43,
   "id": "6752b3d2",
   "metadata": {
    "scrolled": true
   },
   "outputs": [
    {
     "name": "stdout",
     "output_type": "stream",
     "text": [
      "Mean of Blood Pressure Before (mmHg)\n",
      "133.91\n",
      "\n",
      "Mean of Blood Pressure After (mmHg)\n",
      "128.36\n",
      "\n",
      "For  Blood Pressure Before (mmHg)\n",
      "\n",
      "M.E = 1.293208\n",
      "C.I for  Blood Pressure Before (mmHg) is 132.616792 - 135.203208\n",
      "------------------------------------------------------------------------------------------------------------------\n",
      "M.E = 1.293208\n",
      "C.I for  Blood Pressure After (mmHg) is 127.00995200000001 - 129.710048\n"
     ]
    }
   ],
   "source": [
    "# b. Calculate mean and 5% confidence interval and plot it in a graph\n",
    "\n",
    "print(\"Mean of Blood Pressure Before (mmHg)\")\n",
    "print(st.mean(df[' Blood Pressure Before (mmHg)']))\n",
    "print()\n",
    "print(\"Mean of Blood Pressure After (mmHg)\")\n",
    "print(st.mean(df[' Blood Pressure After (mmHg)']))\n",
    "\n",
    "# S.E(std_error)=std_dev/sq. root(sample size)\n",
    "# Margin of error=1.96 * S.E where 1.96 is critical value of a normal distribution\n",
    "# C.I = mean (+ and -) M.E\n",
    "print()\n",
    "print(\"For  Blood Pressure Before (mmHg)\\n\")\n",
    "\n",
    "ME_before = ((6.598/((100)**(0.5)))*(1.96))\n",
    "print(f\"M.E = {ME_before}\")\n",
    "\n",
    "mean_before=st.mean(df[' Blood Pressure Before (mmHg)'])\n",
    "\n",
    "print(f\"C.I for  Blood Pressure Before (mmHg) is {mean_before-ME_before} - {mean_before+ME_before}\")\n",
    "print(\"------------------------------------------------------------------------------------------------------------------\")\n",
    "\n",
    "ME_after = ((6.888/((100)**(0.5)))*(1.96))\n",
    "print(f\"M.E = {ME_before}\")\n",
    "\n",
    "mean_after=st.mean(df[' Blood Pressure After (mmHg)'])\n",
    "\n",
    "print(f\"C.I for  Blood Pressure After (mmHg) is {mean_after-ME_after} - {mean_after+ME_after}\")\n"
   ]
  },
  {
   "cell_type": "code",
   "execution_count": 57,
   "id": "66f86cf1",
   "metadata": {},
   "outputs": [
    {
     "name": "stdout",
     "output_type": "stream",
     "text": [
      " Std dev for Blood pressure Before 6.598278012275076\n",
      "Mean absolute deviation for Blood Pressure Before is = 5.7118\n",
      "---------------------------------------------------------------------------------------------------------------------\n",
      "\n",
      " Std dev for Blood pressure After 6.888022102523226\n",
      "Mean absolute deviation for Blood Pressure After is = 5.9\n",
      "\n",
      "MAD and SD are both measures of variability, but they differ in their calculation methods, sensitivity to outliers, and interpretability. MAD is often preferred when outliers are present or when a more robust measure of dispersion is desired, while SD is commonly used in many statistical analyses and follows the principles of the Gaussian distribution.\n"
     ]
    }
   ],
   "source": [
    "# c. Calculate the Mean absolute deviation and Standard deviation and interpret the results.\n",
    "print(f\" Std dev for Blood pressure Before {st.stdev(df[' Blood Pressure Before (mmHg)'])}\")\n",
    "\n",
    "s_before=0\n",
    "for i in range(len(df)):\n",
    "    value=abs(df.loc[i,' Blood Pressure Before (mmHg)'] - st.mean(df[' Blood Pressure Before (mmHg)']))\n",
    "    s_before=s_before+value\n",
    "print(f\"Mean absolute deviation for Blood Pressure Before is = {(s_before/100)}\")\n",
    "print(\"---------------------------------------------------------------------------------------------------------------------\\n\")\n",
    "\n",
    "print(f\" Std dev for Blood pressure After {st.stdev(df[' Blood Pressure After (mmHg)'])}\")\n",
    "s_after=0\n",
    "for i in range(len(df)):\n",
    "    value=abs(df.loc[i,' Blood Pressure After (mmHg)'] - st.mean(df[' Blood Pressure After (mmHg)']))\n",
    "    s_after=s_after+value\n",
    "print(f\"Mean absolute deviation for Blood Pressure After is = {(s_after/100)}\\n\")\n",
    "\n",
    "print(\"MAD and SD are both measures of variability, but they differ in their calculation methods, sensitivity to outliers, and interpretability. MAD is often preferred when outliers are present or when a more robust measure of dispersion is desired, while SD is commonly used in many statistical analyses and follows the principles of the Gaussian distribution.\")"
   ]
  },
  {
   "cell_type": "code",
   "execution_count": 60,
   "id": "25e310d3",
   "metadata": {},
   "outputs": [
    {
     "name": "stdout",
     "output_type": "stream",
     "text": [
      "[[1.        0.9779486]\n",
      " [0.9779486 1.       ]]\n"
     ]
    }
   ],
   "source": [
    "# d. Calculate the correlation coefficient and check the significance of it at 1% level of significance.\n",
    "import numpy as np\n",
    "print(np.corrcoef(df[' Blood Pressure Before (mmHg)'] , df[' Blood Pressure After (mmHg)']))"
   ]
  },
  {
   "cell_type": "markdown",
   "id": "29efd0b6",
   "metadata": {},
   "source": [
    "# Q4\n",
    "\n",
    "A group of 20 friends decide to play a game in which they each write a number\n",
    "between 1 and 20 on a slip of paper and put it into a hat. They then draw one slip of paper\n",
    "at random. What is the probability that the number on the slip of paper is a perfect square\n",
    "(i.e., 1, 4, 9, or 16)?"
   ]
  },
  {
   "cell_type": "markdown",
   "id": "b11c00c6",
   "metadata": {},
   "source": [
    "# A4\n",
    " Probability will be (Total no. of favourable output)/(Total possible outcomes) which is equal to 4/20 = 0.2 or 20%"
   ]
  },
  {
   "cell_type": "markdown",
   "id": "b6e06e6e",
   "metadata": {},
   "source": [
    "# Q-5\n",
    "\n",
    "A certain city has two taxi companies: Company A has 80% of the taxis and\n",
    "Company B has 20% of the taxis. Company A's taxis have a 95% success rate for picking\n",
    "up passengers on time, while Company B's taxis have a 90% success rate. If a randomly\n",
    "selected taxi is late, what is the probability that it belongs to Company A?"
   ]
  },
  {
   "cell_type": "markdown",
   "id": "3b05e707",
   "metadata": {},
   "source": [
    "# A5\n",
    "Let-\n",
    "Total taxis in both companies be 100 then:\n",
    "\n",
    "P1- Probability that late pickup is from A considering all A cases = 80*(1-0.95)/100=0.04\n",
    "P2- Probability that late pickup is from B considering all B cases= 20*(1-0.9)/100=0.02\n",
    "\n",
    "Total late pickups from both = 0.02+0.04=0.06\n",
    "\n",
    "If a randomly selected taxi is late, what is the probability that it belongs to Company A = 0.04/0/06= 2/3 = 0.6667\n",
    "\n",
    "\n",
    "\n",
    "\n",
    "\n"
   ]
  },
  {
   "cell_type": "markdown",
   "id": "baf37614",
   "metadata": {},
   "source": [
    "# Q-6.\n",
    "\n",
    "A pharmaceutical company is developing a drug that is supposed to reduce blood\n",
    "pressure. They conduct a clinical trial with 100 patients and record their blood\n",
    "pressure before and after taking the drug. The company wants to know if the change\n",
    "in blood pressure follows a normal distribution.\n"
   ]
  },
  {
   "cell_type": "code",
   "execution_count": 77,
   "id": "272c4aea",
   "metadata": {},
   "outputs": [
    {
     "data": {
      "text/plain": [
       "(array([ 1.,  0.,  0.,  1.,  0.,  0.,  0.,  6.,  0.,  0.,  0.,  0., 11.,\n",
       "         0., 12.,  0.,  0.,  7.,  0.,  5.,  0.,  6.,  0.,  0.,  0.,  0.,\n",
       "         8.,  0., 11.,  0.,  1.,  0.,  0.,  6.,  0.,  6.,  0.,  0.,  0.,\n",
       "         6.,  0.,  6.,  0.,  0.,  6.,  0.,  0.,  0.,  0.,  1.]),\n",
       " array([120.  , 120.56, 121.12, 121.68, 122.24, 122.8 , 123.36, 123.92,\n",
       "        124.48, 125.04, 125.6 , 126.16, 126.72, 127.28, 127.84, 128.4 ,\n",
       "        128.96, 129.52, 130.08, 130.64, 131.2 , 131.76, 132.32, 132.88,\n",
       "        133.44, 134.  , 134.56, 135.12, 135.68, 136.24, 136.8 , 137.36,\n",
       "        137.92, 138.48, 139.04, 139.6 , 140.16, 140.72, 141.28, 141.84,\n",
       "        142.4 , 142.96, 143.52, 144.08, 144.64, 145.2 , 145.76, 146.32,\n",
       "        146.88, 147.44, 148.  ]),\n",
       " <BarContainer object of 50 artists>)"
      ]
     },
     "execution_count": 77,
     "metadata": {},
     "output_type": "execute_result"
    },
    {
     "data": {
      "image/png": "[encoded data removed]",
      "text/plain": [
       "<Figure size 432x288 with 1 Axes>"
      ]
     },
     "metadata": {
      "needs_background": "light"
     },
     "output_type": "display_data"
    }
   ],
   "source": [
    "plt.hist(df[' Blood Pressure Before (mmHg)'], bins=50)\n"
   ]
  },
  {
   "cell_type": "code",
   "execution_count": 79,
   "id": "236cc88b",
   "metadata": {},
   "outputs": [
    {
     "data": {
      "text/plain": [
       "(array([ 7.,  0.,  2.,  0.,  2.,  0.,  8.,  0.,  4.,  0.,  9.,  0.,  0.,\n",
       "         7.,  0.,  4.,  0.,  1.,  0.,  6.,  0.,  0.,  0., 10.,  0.,  0.,\n",
       "         5.,  0.,  4.,  0.,  2.,  0.,  0.,  0.,  0.,  0.,  8.,  0.,  0.,\n",
       "         4.,  0.,  6.,  0.,  0.,  0.,  5.,  0.,  2.,  0.,  4.]),\n",
       " array([118.  , 118.46, 118.92, 119.38, 119.84, 120.3 , 120.76, 121.22,\n",
       "        121.68, 122.14, 122.6 , 123.06, 123.52, 123.98, 124.44, 124.9 ,\n",
       "        125.36, 125.82, 126.28, 126.74, 127.2 , 127.66, 128.12, 128.58,\n",
       "        129.04, 129.5 , 129.96, 130.42, 130.88, 131.34, 131.8 , 132.26,\n",
       "        132.72, 133.18, 133.64, 134.1 , 134.56, 135.02, 135.48, 135.94,\n",
       "        136.4 , 136.86, 137.32, 137.78, 138.24, 138.7 , 139.16, 139.62,\n",
       "        140.08, 140.54, 141.  ]),\n",
       " <BarContainer object of 50 artists>)"
      ]
     },
     "execution_count": 79,
     "metadata": {},
     "output_type": "execute_result"
    },
    {
     "data": {
      "image/png": "[encoded data removed]",
      "text/plain": [
       "<Figure size 432x288 with 1 Axes>"
      ]
     },
     "metadata": {
      "needs_background": "light"
     },
     "output_type": "display_data"
    }
   ],
   "source": [
    "plt.hist(df[' Blood Pressure After (mmHg)'], bins=50)\n",
    "# The change in Blood Pressure looks to follow a normal distribution"
   ]
  },
  {
   "cell_type": "markdown",
   "id": "6b3289d6",
   "metadata": {},
   "source": [
    "# Q9\n",
    "Test the hypothesis that the mean scores of all the students are the same. If not, name the\n",
    "student with the highest score.\n",
    "\n",
    "# A9\n",
    "Jeevan has the highest score among all students"
   ]
  },
  {
   "cell_type": "markdown",
   "id": "4f289c36",
   "metadata": {},
   "source": [
    "# Q10 \n",
    "\n",
    "A factory produces light bulbs, and the probability of a bulb being defective is 0.05.\n",
    "The factory produces a large batch of 500 light bulbs.\n",
    "\n",
    "a. What is the probability that exactly 20 bulbs are defective?\n",
    "\n",
    "b. What is the probability that at least 10 bulbs are defective?\n",
    "\n",
    "c. What is the probability that at max 15 bulbs are defective?\n",
    "\n",
    "d. On average, how many defective bulbs would you expect in a batch of 500?"
   ]
  },
  {
   "cell_type": "markdown",
   "id": "f5b6adb9",
   "metadata": {},
   "source": [
    "# A10\n",
    "\n",
    "a. Probability of exactly 20 bulbs being defective:\n",
    "P(X = 20) = C(500, 20) * 0.05^20 * (1 - 0.05)^(500 - 20)\n",
    "\n",
    "\n",
    "b. To calculate the probability of at least 10 defective bulbs, we need to sum the probabilities of having 10, 11, 12, ..., up to 500 defective bulbs.\n",
    "P(X ≥ 10) = P(X = 10) + P(X = 11) + ... + P(X = 500)\n",
    "\n",
    "\n",
    "c. To calculate the probability of at most 15 defective bulbs, we need to sum the probabilities of having 0, 1, 2, ..., up to 15 defective bulbs.\n",
    "P(X ≤ 15) = P(X = 0) + P(X = 1) + ... + P(X = 15)\n",
    "\n",
    "\n",
    "d. The expected value of a binomial distribution is given by the formula: E(X) = n * p, where n is the number of trials and p is the probability of success.\n",
    "E(X) = 500 * 0.05\n",
    "So, on average, we would expect 25 defective bulbs in a batch of 500."
   ]
  },
  {
   "cell_type": "code",
   "execution_count": null,
   "id": "26ce3734",
   "metadata": {},
   "outputs": [],
   "source": []
  }
 ],
 "metadata": {
  "kernelspec": {
   "display_name": "Python 3 (ipykernel)",
   "language": "python",
   "name": "python3"
  },
  "language_info": {
   "codemirror_mode": {
    "name": "ipython",
    "version": 3
   },
   "file_extension": ".py",
   "mimetype": "text/x-python",
   "name": "python",
   "nbconvert_exporter": "python",
   "pygments_lexer": "ipython3",
   "version": "3.9.12"
  }
 },
 "nbformat": 4,
 "nbformat_minor": 5
}
